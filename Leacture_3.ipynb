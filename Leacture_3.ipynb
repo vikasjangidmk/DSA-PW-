{
 "cells": [
  {
   "cell_type": "code",
   "execution_count": 2,
   "id": "b1f389f0",
   "metadata": {},
   "outputs": [
    {
     "name": "stdout",
     "output_type": "stream",
     "text": [
      "Hello World\n"
     ]
    }
   ],
   "source": [
    "print(\"Hello World\")"
   ]
  },
  {
   "cell_type": "markdown",
   "id": "68e62a7e",
   "metadata": {},
   "source": [
    "# **List**"
   ]
  },
  {
   "cell_type": "code",
   "execution_count": 3,
   "id": "0d246c55",
   "metadata": {},
   "outputs": [],
   "source": [
    "name = \"Vikas\""
   ]
  },
  {
   "cell_type": "code",
   "execution_count": 4,
   "id": "38e98337",
   "metadata": {},
   "outputs": [
    {
     "data": {
      "text/plain": [
       "str"
      ]
     },
     "execution_count": 4,
     "metadata": {},
     "output_type": "execute_result"
    }
   ],
   "source": [
    "type(name)"
   ]
  },
  {
   "cell_type": "code",
   "execution_count": 5,
   "id": "3aed26c6",
   "metadata": {},
   "outputs": [
    {
     "name": "stdout",
     "output_type": "stream",
     "text": [
      "['Vikas', 'rahul', 'abhishek']\n"
     ]
    }
   ],
   "source": [
    "name = [\"Vikas\",\"rahul\",\"abhishek\"]\n",
    "print(name)"
   ]
  },
  {
   "cell_type": "code",
   "execution_count": 6,
   "id": "afb0d5bb",
   "metadata": {},
   "outputs": [
    {
     "data": {
      "text/plain": [
       "list"
      ]
     },
     "execution_count": 6,
     "metadata": {},
     "output_type": "execute_result"
    }
   ],
   "source": [
    "type(name)"
   ]
  },
  {
   "cell_type": "code",
   "execution_count": 7,
   "id": "b883fb5c",
   "metadata": {},
   "outputs": [
    {
     "data": {
      "text/plain": [
       "'Vikas'"
      ]
     },
     "execution_count": 7,
     "metadata": {},
     "output_type": "execute_result"
    }
   ],
   "source": [
    "name[0]"
   ]
  },
  {
   "cell_type": "code",
   "execution_count": 8,
   "id": "7a48fa25",
   "metadata": {},
   "outputs": [
    {
     "data": {
      "text/plain": [
       "'abhishek'"
      ]
     },
     "execution_count": 8,
     "metadata": {},
     "output_type": "execute_result"
    }
   ],
   "source": [
    "name[-1]"
   ]
  },
  {
   "cell_type": "code",
   "execution_count": 9,
   "id": "cad3ed59",
   "metadata": {},
   "outputs": [
    {
     "data": {
      "text/plain": [
       "['abhishek', 'rahul', 'Vikas']"
      ]
     },
     "execution_count": 9,
     "metadata": {},
     "output_type": "execute_result"
    }
   ],
   "source": [
    "name[::-1]"
   ]
  },
  {
   "cell_type": "code",
   "execution_count": 10,
   "id": "04e89032",
   "metadata": {},
   "outputs": [
    {
     "data": {
      "text/plain": [
       "3"
      ]
     },
     "execution_count": 10,
     "metadata": {},
     "output_type": "execute_result"
    }
   ],
   "source": [
    "len(name)"
   ]
  },
  {
   "cell_type": "code",
   "execution_count": 11,
   "id": "342ade72",
   "metadata": {},
   "outputs": [
    {
     "name": "stdout",
     "output_type": "stream",
     "text": [
      "[1, 2, 3, 4, 5, 6, 7]\n"
     ]
    }
   ],
   "source": [
    "list1 = [1,2,3,4,5,6,7]\n",
    "print(list1)"
   ]
  },
  {
   "cell_type": "code",
   "execution_count": 12,
   "id": "bad58939",
   "metadata": {},
   "outputs": [],
   "source": [
    "list1.append(9)"
   ]
  },
  {
   "cell_type": "code",
   "execution_count": 13,
   "id": "406cf471",
   "metadata": {},
   "outputs": [
    {
     "data": {
      "text/plain": [
       "[1, 2, 3, 4, 5, 6, 7, 9]"
      ]
     },
     "execution_count": 13,
     "metadata": {},
     "output_type": "execute_result"
    }
   ],
   "source": [
    "list1"
   ]
  },
  {
   "cell_type": "code",
   "execution_count": 14,
   "id": "21ea07b6",
   "metadata": {},
   "outputs": [],
   "source": [
    "list1.append([43,43,45,65,67])"
   ]
  },
  {
   "cell_type": "code",
   "execution_count": 15,
   "id": "2a33f44a",
   "metadata": {},
   "outputs": [
    {
     "data": {
      "text/plain": [
       "[1, 2, 3, 4, 5, 6, 7, 9, [43, 43, 45, 65, 67]]"
      ]
     },
     "execution_count": 15,
     "metadata": {},
     "output_type": "execute_result"
    }
   ],
   "source": [
    "list1"
   ]
  },
  {
   "cell_type": "code",
   "execution_count": 16,
   "id": "4fb8b8ef",
   "metadata": {},
   "outputs": [],
   "source": [
    "list2 = [3,45,56,67,8,56,43]\n",
    "\n",
    "list1.append(list2)"
   ]
  },
  {
   "cell_type": "code",
   "execution_count": 17,
   "id": "9dde12f8",
   "metadata": {},
   "outputs": [
    {
     "data": {
      "text/plain": [
       "[1, 2, 3, 4, 5, 6, 7, 9, [43, 43, 45, 65, 67], [3, 45, 56, 67, 8, 56, 43]]"
      ]
     },
     "execution_count": 17,
     "metadata": {},
     "output_type": "execute_result"
    }
   ],
   "source": [
    "list1"
   ]
  },
  {
   "cell_type": "code",
   "execution_count": 18,
   "id": "e782c512",
   "metadata": {},
   "outputs": [],
   "source": [
    "list1.extend(list2)"
   ]
  },
  {
   "cell_type": "code",
   "execution_count": 19,
   "id": "2bfa7a2f",
   "metadata": {},
   "outputs": [
    {
     "data": {
      "text/plain": [
       "[1,\n",
       " 2,\n",
       " 3,\n",
       " 4,\n",
       " 5,\n",
       " 6,\n",
       " 7,\n",
       " 9,\n",
       " [43, 43, 45, 65, 67],\n",
       " [3, 45, 56, 67, 8, 56, 43],\n",
       " 3,\n",
       " 45,\n",
       " 56,\n",
       " 67,\n",
       " 8,\n",
       " 56,\n",
       " 43]"
      ]
     },
     "execution_count": 19,
     "metadata": {},
     "output_type": "execute_result"
    }
   ],
   "source": [
    "list1"
   ]
  },
  {
   "cell_type": "code",
   "execution_count": 21,
   "id": "26eaaaf4",
   "metadata": {},
   "outputs": [],
   "source": [
    "l= [32,43,54,6,7,78]"
   ]
  },
  {
   "cell_type": "code",
   "execution_count": 22,
   "id": "1ddf76fe",
   "metadata": {},
   "outputs": [
    {
     "name": "stdout",
     "output_type": "stream",
     "text": [
      "[32, 43, 54, 100, 6, 7, 78]\n"
     ]
    }
   ],
   "source": [
    "l.insert(3,100)\n",
    "print(l)"
   ]
  },
  {
   "cell_type": "code",
   "execution_count": 23,
   "id": "abfad932",
   "metadata": {},
   "outputs": [],
   "source": [
    "l.remove(43)"
   ]
  },
  {
   "cell_type": "code",
   "execution_count": 24,
   "id": "711d0b45",
   "metadata": {},
   "outputs": [
    {
     "data": {
      "text/plain": [
       "[32, 54, 100, 6, 7, 78]"
      ]
     },
     "execution_count": 24,
     "metadata": {},
     "output_type": "execute_result"
    }
   ],
   "source": [
    "l"
   ]
  },
  {
   "cell_type": "code",
   "execution_count": 25,
   "id": "c89f037e",
   "metadata": {},
   "outputs": [
    {
     "data": {
      "text/plain": [
       "78"
      ]
     },
     "execution_count": 25,
     "metadata": {},
     "output_type": "execute_result"
    }
   ],
   "source": [
    "l.pop()"
   ]
  },
  {
   "cell_type": "code",
   "execution_count": 26,
   "id": "d02093a4",
   "metadata": {},
   "outputs": [
    {
     "data": {
      "text/plain": [
       "100"
      ]
     },
     "execution_count": 26,
     "metadata": {},
     "output_type": "execute_result"
    }
   ],
   "source": [
    "l.pop(2)"
   ]
  },
  {
   "cell_type": "code",
   "execution_count": 27,
   "id": "1cac5c05",
   "metadata": {},
   "outputs": [],
   "source": [
    "l.clear()"
   ]
  },
  {
   "cell_type": "code",
   "execution_count": 28,
   "id": "7e3a9a52",
   "metadata": {},
   "outputs": [
    {
     "data": {
      "text/plain": [
       "[]"
      ]
     },
     "execution_count": 28,
     "metadata": {},
     "output_type": "execute_result"
    }
   ],
   "source": [
    "l"
   ]
  },
  {
   "cell_type": "code",
   "execution_count": 29,
   "id": "cd8a32c7",
   "metadata": {},
   "outputs": [],
   "source": [
    "l= [32,43,54,6,7,78]"
   ]
  },
  {
   "cell_type": "code",
   "execution_count": 30,
   "id": "623fbf62",
   "metadata": {},
   "outputs": [
    {
     "data": {
      "text/plain": [
       "6"
      ]
     },
     "execution_count": 30,
     "metadata": {},
     "output_type": "execute_result"
    }
   ],
   "source": [
    "min(l)"
   ]
  },
  {
   "cell_type": "code",
   "execution_count": 31,
   "id": "d3eb6671",
   "metadata": {},
   "outputs": [
    {
     "data": {
      "text/plain": [
       "78"
      ]
     },
     "execution_count": 31,
     "metadata": {},
     "output_type": "execute_result"
    }
   ],
   "source": [
    "max(l)"
   ]
  },
  {
   "cell_type": "code",
   "execution_count": 35,
   "id": "298cbf2c",
   "metadata": {},
   "outputs": [
    {
     "data": {
      "text/plain": [
       "1"
      ]
     },
     "execution_count": 35,
     "metadata": {},
     "output_type": "execute_result"
    }
   ],
   "source": [
    "l.count(6)"
   ]
  },
  {
   "cell_type": "code",
   "execution_count": 36,
   "id": "e7d231fa",
   "metadata": {},
   "outputs": [],
   "source": [
    "l.sort()"
   ]
  },
  {
   "cell_type": "code",
   "execution_count": 37,
   "id": "42ee4170",
   "metadata": {},
   "outputs": [
    {
     "data": {
      "text/plain": [
       "[6, 7, 32, 43, 54, 78]"
      ]
     },
     "execution_count": 37,
     "metadata": {},
     "output_type": "execute_result"
    }
   ],
   "source": [
    "l"
   ]
  },
  {
   "cell_type": "code",
   "execution_count": 38,
   "id": "78392484",
   "metadata": {},
   "outputs": [],
   "source": [
    "l.reverse()"
   ]
  },
  {
   "cell_type": "code",
   "execution_count": 39,
   "id": "99d0fb85",
   "metadata": {},
   "outputs": [
    {
     "data": {
      "text/plain": [
       "[78, 54, 43, 32, 7, 6]"
      ]
     },
     "execution_count": 39,
     "metadata": {},
     "output_type": "execute_result"
    }
   ],
   "source": [
    "l"
   ]
  },
  {
   "cell_type": "code",
   "execution_count": 40,
   "id": "d345a708",
   "metadata": {},
   "outputs": [
    {
     "data": {
      "text/plain": [
       "3"
      ]
     },
     "execution_count": 40,
     "metadata": {},
     "output_type": "execute_result"
    }
   ],
   "source": [
    "l.index(32)"
   ]
  },
  {
   "cell_type": "code",
   "execution_count": 43,
   "id": "0add9e16",
   "metadata": {},
   "outputs": [
    {
     "data": {
      "text/plain": [
       "[78, 54, 43, 32, 7, 6]"
      ]
     },
     "execution_count": 43,
     "metadata": {},
     "output_type": "execute_result"
    }
   ],
   "source": [
    "l"
   ]
  },
  {
   "cell_type": "code",
   "execution_count": 45,
   "id": "14366664",
   "metadata": {},
   "outputs": [
    {
     "data": {
      "text/plain": [
       "4"
      ]
     },
     "execution_count": 45,
     "metadata": {},
     "output_type": "execute_result"
    }
   ],
   "source": [
    "l.index(7)"
   ]
  },
  {
   "cell_type": "code",
   "execution_count": 48,
   "id": "30afd69b",
   "metadata": {},
   "outputs": [
    {
     "name": "stdout",
     "output_type": "stream",
     "text": [
      "[3, 45, 56, 67, 8, 56, 43]\n"
     ]
    }
   ],
   "source": [
    "list1 = [1,2,3,4]\n",
    "list1 = list2\n",
    "print(list2)"
   ]
  },
  {
   "cell_type": "code",
   "execution_count": 49,
   "id": "ff0d6c8b",
   "metadata": {},
   "outputs": [],
   "source": [
    "list2.append(9)"
   ]
  },
  {
   "cell_type": "code",
   "execution_count": 50,
   "id": "d375583c",
   "metadata": {},
   "outputs": [
    {
     "name": "stdout",
     "output_type": "stream",
     "text": [
      "[3, 45, 56, 67, 8, 56, 43, 9] 2237012180800\n",
      "[3, 45, 56, 67, 8, 56, 43, 9] 2237012180800\n"
     ]
    }
   ],
   "source": [
    "print(list1, id(list1))\n",
    "print(list2, id(list2))"
   ]
  },
  {
   "cell_type": "code",
   "execution_count": 51,
   "id": "44d101ba",
   "metadata": {},
   "outputs": [],
   "source": [
    "list3 = list1.copy()"
   ]
  },
  {
   "cell_type": "code",
   "execution_count": 52,
   "id": "93946238",
   "metadata": {},
   "outputs": [
    {
     "data": {
      "text/plain": [
       "[3, 45, 56, 67, 8, 56, 43, 9]"
      ]
     },
     "execution_count": 52,
     "metadata": {},
     "output_type": "execute_result"
    }
   ],
   "source": [
    "list3"
   ]
  },
  {
   "cell_type": "code",
   "execution_count": 53,
   "id": "066c154f",
   "metadata": {},
   "outputs": [],
   "source": [
    "list3.append(100)"
   ]
  },
  {
   "cell_type": "code",
   "execution_count": 54,
   "id": "9721886c",
   "metadata": {},
   "outputs": [
    {
     "name": "stdout",
     "output_type": "stream",
     "text": [
      "[3, 45, 56, 67, 8, 56, 43, 9] 2237012180800\n",
      "[3, 45, 56, 67, 8, 56, 43, 9, 100] 2237007299840\n"
     ]
    }
   ],
   "source": [
    "print(list1, id(list1))\n",
    "print(list3, id(list3))"
   ]
  },
  {
   "cell_type": "code",
   "execution_count": 55,
   "id": "70e29ddb",
   "metadata": {},
   "outputs": [],
   "source": [
    "l1 = [12,32,43,45,65,76,87,89,90,234]"
   ]
  },
  {
   "cell_type": "code",
   "execution_count": 56,
   "id": "44d5ae87",
   "metadata": {},
   "outputs": [
    {
     "data": {
      "text/plain": [
       "[43, 45, 65, 76]"
      ]
     },
     "execution_count": 56,
     "metadata": {},
     "output_type": "execute_result"
    }
   ],
   "source": [
    "l1[2:6]"
   ]
  },
  {
   "cell_type": "code",
   "execution_count": 57,
   "id": "9c7a89bf",
   "metadata": {},
   "outputs": [
    {
     "data": {
      "text/plain": [
       "[43, 76]"
      ]
     },
     "execution_count": 57,
     "metadata": {},
     "output_type": "execute_result"
    }
   ],
   "source": [
    "l1[2:6:3]"
   ]
  },
  {
   "cell_type": "code",
   "execution_count": 58,
   "id": "f5ff8085",
   "metadata": {},
   "outputs": [
    {
     "data": {
      "text/plain": [
       "[234, 90, 89, 87, 76, 65, 45, 43, 32, 12]"
      ]
     },
     "execution_count": 58,
     "metadata": {},
     "output_type": "execute_result"
    }
   ],
   "source": [
    "l1[::-1]"
   ]
  },
  {
   "cell_type": "markdown",
   "id": "4133baac",
   "metadata": {},
   "source": [
    "# **Tuple**"
   ]
  },
  {
   "cell_type": "code",
   "execution_count": 59,
   "id": "f72023ae",
   "metadata": {},
   "outputs": [
    {
     "data": {
      "text/plain": [
       "int"
      ]
     },
     "execution_count": 59,
     "metadata": {},
     "output_type": "execute_result"
    }
   ],
   "source": [
    "a = 2\n",
    "type(a)"
   ]
  },
  {
   "cell_type": "code",
   "execution_count": 60,
   "id": "41def646",
   "metadata": {},
   "outputs": [
    {
     "data": {
      "text/plain": [
       "tuple"
      ]
     },
     "execution_count": 60,
     "metadata": {},
     "output_type": "execute_result"
    }
   ],
   "source": [
    "a = 2,\n",
    "type(a)"
   ]
  },
  {
   "cell_type": "code",
   "execution_count": 61,
   "id": "ebde9b75",
   "metadata": {},
   "outputs": [],
   "source": [
    "t1 = (\"hello\",21,34,65,7,True)"
   ]
  },
  {
   "cell_type": "code",
   "execution_count": 62,
   "id": "9bcde0f2",
   "metadata": {},
   "outputs": [
    {
     "data": {
      "text/plain": [
       "('hello', 21, 34, 65, 7, True)"
      ]
     },
     "execution_count": 62,
     "metadata": {},
     "output_type": "execute_result"
    }
   ],
   "source": [
    "t1"
   ]
  },
  {
   "cell_type": "code",
   "execution_count": 63,
   "id": "0f818814",
   "metadata": {},
   "outputs": [
    {
     "data": {
      "text/plain": [
       "65"
      ]
     },
     "execution_count": 63,
     "metadata": {},
     "output_type": "execute_result"
    }
   ],
   "source": [
    "t1[3]"
   ]
  },
  {
   "cell_type": "code",
   "execution_count": 64,
   "id": "397dca87",
   "metadata": {},
   "outputs": [
    {
     "data": {
      "text/plain": [
       "6"
      ]
     },
     "execution_count": 64,
     "metadata": {},
     "output_type": "execute_result"
    }
   ],
   "source": [
    "len(t1)"
   ]
  },
  {
   "cell_type": "code",
   "execution_count": 65,
   "id": "a8e4b579",
   "metadata": {},
   "outputs": [
    {
     "data": {
      "text/plain": [
       "tuple"
      ]
     },
     "execution_count": 65,
     "metadata": {},
     "output_type": "execute_result"
    }
   ],
   "source": [
    "type(t1)"
   ]
  },
  {
   "cell_type": "markdown",
   "id": "4461aab9",
   "metadata": {},
   "source": [
    "# **String** "
   ]
  },
  {
   "cell_type": "code",
   "execution_count": 66,
   "id": "94a111d2",
   "metadata": {},
   "outputs": [],
   "source": [
    "name = \"Vikas\""
   ]
  },
  {
   "cell_type": "code",
   "execution_count": 68,
   "id": "022c8f9d",
   "metadata": {},
   "outputs": [
    {
     "name": "stdout",
     "output_type": "stream",
     "text": [
      "V\n",
      "i\n",
      "k\n",
      "a\n",
      "s\n"
     ]
    }
   ],
   "source": [
    "for i in name:\n",
    "    print(i)"
   ]
  },
  {
   "cell_type": "code",
   "execution_count": 69,
   "id": "c95e9250",
   "metadata": {},
   "outputs": [],
   "source": [
    "mul_str = \"\"\"\n",
    "bcsiucbedsnckdsabc\n",
    "cbcjusbkcusb\n",
    "icudsbcusdbcus\n",
    "sdicsubcusbcs\n",
    "cjsbcsbcsbuc\n",
    "\"\"\""
   ]
  },
  {
   "cell_type": "code",
   "execution_count": 70,
   "id": "e11fb15f",
   "metadata": {},
   "outputs": [
    {
     "data": {
      "text/plain": [
       "str"
      ]
     },
     "execution_count": 70,
     "metadata": {},
     "output_type": "execute_result"
    }
   ],
   "source": [
    "type(mul_str)"
   ]
  },
  {
   "cell_type": "code",
   "execution_count": 71,
   "id": "beefb98e",
   "metadata": {},
   "outputs": [
    {
     "data": {
      "text/plain": [
       "75"
      ]
     },
     "execution_count": 71,
     "metadata": {},
     "output_type": "execute_result"
    }
   ],
   "source": [
    "len(mul_str)"
   ]
  },
  {
   "cell_type": "code",
   "execution_count": 77,
   "id": "3d7547c3",
   "metadata": {},
   "outputs": [
    {
     "name": "stdout",
     "output_type": "stream",
     "text": [
      "Physics Wallah Skills\n"
     ]
    }
   ],
   "source": [
    "a = \"Physics Wallah \"\n",
    "\n",
    "a += \"Skills\"\n",
    "\n",
    "print(a)"
   ]
  },
  {
   "cell_type": "code",
   "execution_count": 78,
   "id": "5c4ebe4d",
   "metadata": {},
   "outputs": [
    {
     "data": {
      "text/plain": [
       "str"
      ]
     },
     "execution_count": 78,
     "metadata": {},
     "output_type": "execute_result"
    }
   ],
   "source": [
    "type(a)"
   ]
  },
  {
   "cell_type": "code",
   "execution_count": 79,
   "id": "962353b5",
   "metadata": {},
   "outputs": [
    {
     "data": {
      "text/plain": [
       "'PHYSICS WALLAH SKILLS'"
      ]
     },
     "execution_count": 79,
     "metadata": {},
     "output_type": "execute_result"
    }
   ],
   "source": [
    "a.upper()"
   ]
  },
  {
   "cell_type": "code",
   "execution_count": 80,
   "id": "a40d094f",
   "metadata": {},
   "outputs": [
    {
     "data": {
      "text/plain": [
       "'physics wallah skills'"
      ]
     },
     "execution_count": 80,
     "metadata": {},
     "output_type": "execute_result"
    }
   ],
   "source": [
    "a.lower()"
   ]
  },
  {
   "cell_type": "code",
   "execution_count": 81,
   "id": "6ed91824",
   "metadata": {},
   "outputs": [
    {
     "data": {
      "text/plain": [
       "'Physics wallah skills'"
      ]
     },
     "execution_count": 81,
     "metadata": {},
     "output_type": "execute_result"
    }
   ],
   "source": [
    "a.capitalize()"
   ]
  },
  {
   "cell_type": "code",
   "execution_count": null,
   "id": "06b178aa",
   "metadata": {},
   "outputs": [
    {
     "data": {
      "text/plain": [
       "'Vhysics Wallah Skills'"
      ]
     },
     "execution_count": 82,
     "metadata": {},
     "output_type": "execute_result"
    }
   ],
   "source": [
    "# a.replace(\"P\",\"V\")"
   ]
  },
  {
   "cell_type": "code",
   "execution_count": 83,
   "id": "469082aa",
   "metadata": {},
   "outputs": [
    {
     "name": "stdout",
     "output_type": "stream",
     "text": [
      "Physics Wallah Skills\n"
     ]
    }
   ],
   "source": [
    "a = \"Physics Wallah \"\n",
    "\n",
    "a += \"Skills\"\n",
    "\n",
    "print(a)"
   ]
  },
  {
   "cell_type": "code",
   "execution_count": 84,
   "id": "c977f016",
   "metadata": {},
   "outputs": [
    {
     "data": {
      "text/plain": [
       "True"
      ]
     },
     "execution_count": 84,
     "metadata": {},
     "output_type": "execute_result"
    }
   ],
   "source": [
    "a.startswith(\"P\")"
   ]
  },
  {
   "cell_type": "code",
   "execution_count": 85,
   "id": "c8bede8f",
   "metadata": {},
   "outputs": [
    {
     "data": {
      "text/plain": [
       "True"
      ]
     },
     "execution_count": 85,
     "metadata": {},
     "output_type": "execute_result"
    }
   ],
   "source": [
    "a.endswith(\"Skills\")"
   ]
  },
  {
   "cell_type": "code",
   "execution_count": 87,
   "id": "fc7b8d7c",
   "metadata": {},
   "outputs": [
    {
     "data": {
      "text/plain": [
       "'Physics Wallah Skills'"
      ]
     },
     "execution_count": 87,
     "metadata": {},
     "output_type": "execute_result"
    }
   ],
   "source": [
    "a"
   ]
  },
  {
   "cell_type": "code",
   "execution_count": 88,
   "id": "685655fa",
   "metadata": {},
   "outputs": [
    {
     "data": {
      "text/plain": [
       "12"
      ]
     },
     "execution_count": 88,
     "metadata": {},
     "output_type": "execute_result"
    }
   ],
   "source": [
    "a.index(\"ah S\")"
   ]
  },
  {
   "cell_type": "code",
   "execution_count": 89,
   "id": "6b70fdb2",
   "metadata": {},
   "outputs": [
    {
     "data": {
      "text/plain": [
       "12"
      ]
     },
     "execution_count": 89,
     "metadata": {},
     "output_type": "execute_result"
    }
   ],
   "source": [
    "a.find(\"ah S\")"
   ]
  },
  {
   "cell_type": "code",
   "execution_count": 90,
   "id": "58da7c0d",
   "metadata": {},
   "outputs": [
    {
     "data": {
      "text/plain": [
       "'Physics Wallah Skills'"
      ]
     },
     "execution_count": 90,
     "metadata": {},
     "output_type": "execute_result"
    }
   ],
   "source": [
    "a"
   ]
  },
  {
   "cell_type": "code",
   "execution_count": 91,
   "id": "49bb46c4",
   "metadata": {},
   "outputs": [
    {
     "data": {
      "text/plain": [
       "['P',\n",
       " 'h',\n",
       " 'y',\n",
       " 's',\n",
       " 'i',\n",
       " 'c',\n",
       " 's',\n",
       " ' ',\n",
       " 'W',\n",
       " 'a',\n",
       " 'l',\n",
       " 'l',\n",
       " 'a',\n",
       " 'h',\n",
       " ' ',\n",
       " 'S',\n",
       " 'k',\n",
       " 'i',\n",
       " 'l',\n",
       " 'l',\n",
       " 's']"
      ]
     },
     "execution_count": 91,
     "metadata": {},
     "output_type": "execute_result"
    }
   ],
   "source": [
    "list(a)"
   ]
  },
  {
   "cell_type": "code",
   "execution_count": 92,
   "id": "1aafacc6",
   "metadata": {},
   "outputs": [
    {
     "data": {
      "text/plain": [
       "'Physics Wallah Skills'"
      ]
     },
     "execution_count": 92,
     "metadata": {},
     "output_type": "execute_result"
    }
   ],
   "source": [
    "a.strip()"
   ]
  },
  {
   "cell_type": "code",
   "execution_count": 94,
   "id": "2de73cc2",
   "metadata": {},
   "outputs": [
    {
     "data": {
      "text/plain": [
       "'Vikas Jangid'"
      ]
     },
     "execution_count": 94,
     "metadata": {},
     "output_type": "execute_result"
    }
   ],
   "source": [
    "s = \"          Vikas Jangid       \"\n",
    "s.strip()"
   ]
  },
  {
   "cell_type": "code",
   "execution_count": 95,
   "id": "01cf5fc1",
   "metadata": {},
   "outputs": [
    {
     "data": {
      "text/plain": [
       "'pw-skills'"
      ]
     },
     "execution_count": 95,
     "metadata": {},
     "output_type": "execute_result"
    }
   ],
   "source": [
    "s = \"-----------pw-skills------------\"\n",
    "s.strip(\"-\")"
   ]
  },
  {
   "cell_type": "code",
   "execution_count": 96,
   "id": "f3a2e199",
   "metadata": {},
   "outputs": [
    {
     "data": {
      "text/plain": [
       "'Hello my name is vikas jangid'"
      ]
     },
     "execution_count": 96,
     "metadata": {},
     "output_type": "execute_result"
    }
   ],
   "source": [
    "s = \"Hello my name is vikas jangid\"\n",
    "s.strip()"
   ]
  },
  {
   "cell_type": "code",
   "execution_count": 97,
   "id": "c34f0929",
   "metadata": {},
   "outputs": [
    {
     "data": {
      "text/plain": [
       "['Hello', 'my', 'name', 'is', 'vikas', 'jangid']"
      ]
     },
     "execution_count": 97,
     "metadata": {},
     "output_type": "execute_result"
    }
   ],
   "source": [
    "s.split()"
   ]
  },
  {
   "cell_type": "code",
   "execution_count": 98,
   "id": "307b886e",
   "metadata": {},
   "outputs": [
    {
     "data": {
      "text/plain": [
       "['Hello my n', 'me is vik', 's j', 'ngid']"
      ]
     },
     "execution_count": 98,
     "metadata": {},
     "output_type": "execute_result"
    }
   ],
   "source": [
    "s.split(\"a\")"
   ]
  },
  {
   "cell_type": "code",
   "execution_count": 101,
   "id": "50ec141a",
   "metadata": {},
   "outputs": [
    {
     "name": "stdout",
     "output_type": "stream",
     "text": [
      "viku\n"
     ]
    }
   ],
   "source": [
    "list = ['v','i','k','u']\n",
    "\n",
    "s = ''.join(list)\n",
    "print(s)"
   ]
  },
  {
   "cell_type": "code",
   "execution_count": 103,
   "id": "a373db6e",
   "metadata": {},
   "outputs": [
    {
     "name": "stdout",
     "output_type": "stream",
     "text": [
      "Vikas\n",
      "Jangid\n"
     ]
    }
   ],
   "source": [
    "s = \"Vikas\\nJangid\"\n",
    "print(s)"
   ]
  },
  {
   "cell_type": "code",
   "execution_count": 104,
   "id": "3d8029a0",
   "metadata": {},
   "outputs": [
    {
     "name": "stdout",
     "output_type": "stream",
     "text": [
      "Vikas\tJangid\n"
     ]
    }
   ],
   "source": [
    "s = \"Vikas\\tJangid\"\n",
    "print(s)"
   ]
  },
  {
   "cell_type": "code",
   "execution_count": 105,
   "id": "5ee005f7",
   "metadata": {},
   "outputs": [
    {
     "name": "stdout",
     "output_type": "stream",
     "text": [
      "Vikas\u0007Jangid\n"
     ]
    }
   ],
   "source": [
    "s = \"Vikas\\aJangid\"\n",
    "print(s)"
   ]
  },
  {
   "cell_type": "code",
   "execution_count": 106,
   "id": "8448effe",
   "metadata": {},
   "outputs": [
    {
     "name": "stdout",
     "output_type": "stream",
     "text": [
      "VikaJangid\n"
     ]
    }
   ],
   "source": [
    "s = \"Vikas\\bJangid\"\n",
    "print(s)"
   ]
  },
  {
   "cell_type": "code",
   "execution_count": 107,
   "id": "cbcb48d6",
   "metadata": {},
   "outputs": [
    {
     "name": "stdout",
     "output_type": "stream",
     "text": [
      "Vikas\fJangid\n"
     ]
    }
   ],
   "source": [
    "s = \"Vikas\\fJangid\"\n",
    "print(s)"
   ]
  },
  {
   "cell_type": "code",
   "execution_count": 108,
   "id": "37172130",
   "metadata": {},
   "outputs": [
    {
     "name": "stdout",
     "output_type": "stream",
     "text": [
      "Jangid\n"
     ]
    }
   ],
   "source": [
    "s = \"Vikas\\rJangid\"\n",
    "print(s)"
   ]
  },
  {
   "cell_type": "code",
   "execution_count": 109,
   "id": "3d1d1c45",
   "metadata": {},
   "outputs": [
    {
     "name": "stdout",
     "output_type": "stream",
     "text": [
      "Vikas\u000bJangid\n"
     ]
    }
   ],
   "source": [
    "s = \"Vikas\\vJangid\"\n",
    "print(s)"
   ]
  },
  {
   "cell_type": "code",
   "execution_count": 110,
   "id": "cf9d200e",
   "metadata": {},
   "outputs": [
    {
     "name": "stdout",
     "output_type": "stream",
     "text": [
      "90\n"
     ]
    }
   ],
   "source": [
    "print(ord(\"Z\"))"
   ]
  },
  {
   "cell_type": "code",
   "execution_count": 111,
   "id": "ae87ab9c",
   "metadata": {},
   "outputs": [
    {
     "name": "stdout",
     "output_type": "stream",
     "text": [
      "35\n"
     ]
    }
   ],
   "source": [
    "print(ord('#'))"
   ]
  },
  {
   "cell_type": "code",
   "execution_count": 116,
   "id": "89c087c2",
   "metadata": {},
   "outputs": [],
   "source": [
    "class Solution:\n",
    "    def removeDuplicates(self, nums):\n",
    "        ans = set(nums)\n",
    "        return len(ans)"
   ]
  },
  {
   "cell_type": "code",
   "execution_count": 117,
   "id": "8d68a7b2",
   "metadata": {},
   "outputs": [],
   "source": [
    "ans = Solution()"
   ]
  },
  {
   "cell_type": "code",
   "execution_count": 118,
   "id": "47a58bfb",
   "metadata": {},
   "outputs": [
    {
     "data": {
      "text/plain": [
       "2"
      ]
     },
     "execution_count": 118,
     "metadata": {},
     "output_type": "execute_result"
    }
   ],
   "source": [
    "ans.removeDuplicates([11,11,12,12])"
   ]
  },
  {
   "cell_type": "code",
   "execution_count": 121,
   "id": "0eaa1e83",
   "metadata": {},
   "outputs": [
    {
     "data": {
      "text/plain": [
       "2"
      ]
     },
     "execution_count": 121,
     "metadata": {},
     "output_type": "execute_result"
    }
   ],
   "source": [
    "ans.removeDuplicates([1,1,2])"
   ]
  },
  {
   "cell_type": "code",
   "execution_count": 122,
   "id": "b59e544f",
   "metadata": {},
   "outputs": [
    {
     "data": {
      "text/plain": [
       "5"
      ]
     },
     "execution_count": 122,
     "metadata": {},
     "output_type": "execute_result"
    }
   ],
   "source": [
    "ans.removeDuplicates([0,0,1,1,1,2,2,3,3,4])"
   ]
  },
  {
   "cell_type": "code",
   "execution_count": null,
   "id": "56122a31",
   "metadata": {},
   "outputs": [],
   "source": []
  }
 ],
 "metadata": {
  "kernelspec": {
   "display_name": "Python 3",
   "language": "python",
   "name": "python3"
  },
  "language_info": {
   "codemirror_mode": {
    "name": "ipython",
    "version": 3
   },
   "file_extension": ".py",
   "mimetype": "text/x-python",
   "name": "python",
   "nbconvert_exporter": "python",
   "pygments_lexer": "ipython3",
   "version": "3.10.0"
  }
 },
 "nbformat": 4,
 "nbformat_minor": 5
}
