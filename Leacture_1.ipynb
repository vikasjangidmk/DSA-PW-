{
 "cells": [
  {
   "cell_type": "code",
   "execution_count": 1,
   "id": "1bf972b2",
   "metadata": {},
   "outputs": [],
   "source": [
    "import pandas as pd\n",
    "import numpy as np"
   ]
  },
  {
   "cell_type": "code",
   "execution_count": 2,
   "id": "0868eb67",
   "metadata": {},
   "outputs": [
    {
     "name": "stdout",
     "output_type": "stream",
     "text": [
      "Hello World\n"
     ]
    }
   ],
   "source": [
    "print(\"Hello World\")"
   ]
  },
  {
   "cell_type": "code",
   "execution_count": 3,
   "id": "f7d935a5",
   "metadata": {},
   "outputs": [
    {
     "name": "stdout",
     "output_type": "stream",
     "text": [
      "Average of Monday and Tuesday is: 75.5\n"
     ]
    }
   ],
   "source": [
    "mon = 87\n",
    "tue = 64\n",
    "\n",
    "avg = (mon + tue)/2\n",
    "\n",
    "print(\"Average of Monday and Tuesday is:\", avg)"
   ]
  },
  {
   "cell_type": "code",
   "execution_count": 4,
   "id": "f0e526a3",
   "metadata": {},
   "outputs": [
    {
     "name": "stdout",
     "output_type": "stream",
     "text": [
      "57\n",
      "-11\n",
      "782\n",
      "0.6764705882352942\n",
      "0\n",
      "23\n",
      "19895113660064588580108197261066338165074766609\n"
     ]
    }
   ],
   "source": [
    "print(23+34)\n",
    "print(23-34)\n",
    "print(23*34)\n",
    "print(23/34)\n",
    "print(23//34)  # Floor division\n",
    "print(23%34)   # Modulus    \n",
    "print(23**34)  # Exponentiation\n"
   ]
  },
  {
   "cell_type": "code",
   "execution_count": 11,
   "id": "c1b32abf",
   "metadata": {},
   "outputs": [
    {
     "name": "stdout",
     "output_type": "stream",
     "text": [
      "False\n",
      "True\n"
     ]
    },
    {
     "name": "stderr",
     "output_type": "stream",
     "text": [
      "<>:3: SyntaxWarning: \"is\" with a literal. Did you mean \"==\"?\n",
      "<>:4: SyntaxWarning: \"is not\" with a literal. Did you mean \"!=\"?\n",
      "<>:3: SyntaxWarning: \"is\" with a literal. Did you mean \"==\"?\n",
      "<>:4: SyntaxWarning: \"is not\" with a literal. Did you mean \"!=\"?\n",
      "C:\\Users\\vikas\\AppData\\Local\\Temp\\ipykernel_2664\\2809329677.py:3: SyntaxWarning: \"is\" with a literal. Did you mean \"==\"?\n",
      "  print(\"Vikas\" is \"Rahul\")  # This will return False because they are different objects\n",
      "C:\\Users\\vikas\\AppData\\Local\\Temp\\ipykernel_2664\\2809329677.py:4: SyntaxWarning: \"is not\" with a literal. Did you mean \"!=\"?\n",
      "  print(\"Vikas\" is not \"Rahul\")  # This will return True because they are different objects\n"
     ]
    }
   ],
   "source": [
    "\"Rahul\" == \"Vikas\"\n",
    "\n",
    "print(\"Vikas\" is \"Rahul\")  # This will return False because they are different objects\n",
    "print(\"Vikas\" is not \"Rahul\")  # This will return True because they are different objects\n"
   ]
  },
  {
   "cell_type": "code",
   "execution_count": 12,
   "id": "8cc13c4f",
   "metadata": {},
   "outputs": [
    {
     "name": "stdout",
     "output_type": "stream",
     "text": [
      "None\n",
      "<class 'NoneType'>\n"
     ]
    }
   ],
   "source": [
    "name = None\n",
    "print(name)\n",
    "print(type(name))"
   ]
  },
  {
   "cell_type": "code",
   "execution_count": 19,
   "id": "37509216",
   "metadata": {},
   "outputs": [
    {
     "name": "stdout",
     "output_type": "stream",
     "text": [
      "Your full name is: vikas jangid\n"
     ]
    }
   ],
   "source": [
    "first_name = input(\"Enter your first name: \")\n",
    "last_name = input(\"Enter your last name: \")\n",
    "full_name = first_name + \" \" + last_name\n",
    "print(\"Your full name is:\", full_name)"
   ]
  },
  {
   "cell_type": "code",
   "execution_count": 15,
   "id": "791e8726",
   "metadata": {},
   "outputs": [
    {
     "name": "stdout",
     "output_type": "stream",
     "text": [
      "Name: vikas\n",
      "Age: 24\n",
      "City: JAipur\n"
     ]
    }
   ],
   "source": [
    "# Example: Taking 3 inputs (name, age, city)\n",
    "name, age, city = input(\"Enter your name, age, and city: \").split()\n",
    "print(\"Name:\", name)\n",
    "print(\"Age:\", age)\n",
    "print(\"City:\", city)\n"
   ]
  },
  {
   "cell_type": "code",
   "execution_count": 17,
   "id": "db25ad4f",
   "metadata": {},
   "outputs": [
    {
     "name": "stdout",
     "output_type": "stream",
     "text": [
      "(1, 2, 3, 4, 5, 5)\n"
     ]
    }
   ],
   "source": [
    "# Dangerous but valid if the input is controlled\n",
    "values = eval(input(\"Enter a list: \"))  # Example: [1, 2, 3]\n",
    "print(values)\n"
   ]
  },
  {
   "cell_type": "code",
   "execution_count": 20,
   "id": "7ec98e9a",
   "metadata": {},
   "outputs": [
    {
     "name": "stdout",
     "output_type": "stream",
     "text": [
      "Name: Vikas, Age: 23, Address: Delhi\n"
     ]
    }
   ],
   "source": [
    "Name = \"Vikas\"\n",
    "age = 23\n",
    "address = \"Delhi\"\n",
    "\n",
    "print(f\"Name: {Name}, Age: {age}, Address: {address}\")  # Using f-string for formatted output"
   ]
  },
  {
   "cell_type": "code",
   "execution_count": 22,
   "id": "af04c663",
   "metadata": {},
   "outputs": [
    {
     "name": "stdout",
     "output_type": "stream",
     "text": [
      "vikas, 23, Delhi\n"
     ]
    }
   ],
   "source": [
    "print(name, age, address, sep=\", \")  # Using sep and end parameters for custom formatting"
   ]
  },
  {
   "cell_type": "code",
   "execution_count": 23,
   "id": "627c5526",
   "metadata": {},
   "outputs": [
    {
     "name": "stdout",
     "output_type": "stream",
     "text": [
      "You are an adult.\n"
     ]
    }
   ],
   "source": [
    "age = int(input(\"Enter your age: \"))\n",
    "\n",
    "if age < 18:\n",
    "    print(\"You are a minor.\")\n",
    "else:\n",
    "    print(\"You are an adult.\")"
   ]
  },
  {
   "cell_type": "code",
   "execution_count": 24,
   "id": "0cefa543",
   "metadata": {},
   "outputs": [
    {
     "name": "stdout",
     "output_type": "stream",
     "text": [
      "You are eligible to Driving License.\n"
     ]
    }
   ],
   "source": [
    "age = int(input(\"Enter your age: \"))\n",
    "\n",
    "if (age >= 18):\n",
    "    test = input()\n",
    "    if test == \"PASS\":\n",
    "        print(\"You are eligible to Driving License.\")\n",
    "    else:\n",
    "        print(\"You are not eligible to Driving License.\")\n",
    "else:\n",
    "    print(\"You are not eligible to Driving License.\")\n",
    "    "
   ]
  },
  {
   "cell_type": "code",
   "execution_count": 25,
   "id": "91fadba6",
   "metadata": {},
   "outputs": [
    {
     "name": "stdout",
     "output_type": "stream",
     "text": [
      "You are Eligible for voting.\n"
     ]
    }
   ],
   "source": [
    "# Ternary Operators\n",
    "age = int(input(\"Enter your age: \"))\n",
    "eligibility = \"Eligible\" if age >= 18 else \"Not Eligible\"\n",
    "print(f\"You are {eligibility} for voting.\")"
   ]
  },
  {
   "cell_type": "code",
   "execution_count": 26,
   "id": "2af600a5",
   "metadata": {},
   "outputs": [
    {
     "name": "stdout",
     "output_type": "stream",
     "text": [
      "0\n",
      "1\n",
      "2\n",
      "3\n",
      "4\n",
      "5\n",
      "6\n",
      "7\n",
      "8\n",
      "9\n"
     ]
    }
   ],
   "source": [
    "i = 0\n",
    "\n",
    "while i < 10:\n",
    "    print(i)\n",
    "    i += 1  "
   ]
  },
  {
   "cell_type": "code",
   "execution_count": 27,
   "id": "299440d0",
   "metadata": {},
   "outputs": [
    {
     "name": "stdout",
     "output_type": "stream",
     "text": [
      "0\n",
      "1\n",
      "2\n",
      "3\n",
      "4\n",
      "5\n",
      "6\n",
      "7\n",
      "8\n",
      "9\n"
     ]
    }
   ],
   "source": [
    "range(10)  # Generates numbers from 0 to 9\n",
    "for i in range(10):\n",
    "    print(i)"
   ]
  },
  {
   "cell_type": "code",
   "execution_count": 28,
   "id": "60409c08",
   "metadata": {},
   "outputs": [
    {
     "data": {
      "text/plain": [
       "range(1, 10)"
      ]
     },
     "execution_count": 28,
     "metadata": {},
     "output_type": "execute_result"
    }
   ],
   "source": [
    "range(1,10)"
   ]
  },
  {
   "cell_type": "code",
   "execution_count": 29,
   "id": "e07aea08",
   "metadata": {},
   "outputs": [
    {
     "name": "stdout",
     "output_type": "stream",
     "text": [
      "1\n",
      "2\n",
      "3\n",
      "4\n",
      "5\n",
      "6\n",
      "7\n",
      "8\n",
      "9\n"
     ]
    }
   ],
   "source": [
    "for i in range(1, 10):\n",
    "    print(i)"
   ]
  },
  {
   "cell_type": "code",
   "execution_count": 30,
   "id": "8db36746",
   "metadata": {},
   "outputs": [],
   "source": [
    "def add(a, b):\n",
    "    return a + b"
   ]
  },
  {
   "cell_type": "code",
   "execution_count": 31,
   "id": "a7620f34",
   "metadata": {},
   "outputs": [
    {
     "name": "stdout",
     "output_type": "stream",
     "text": [
      "Addition: 15\n"
     ]
    }
   ],
   "source": [
    "addition = add(5, 10)\n",
    "print(\"Addition:\", addition)"
   ]
  },
  {
   "cell_type": "code",
   "execution_count": 32,
   "id": "142cb5db",
   "metadata": {},
   "outputs": [],
   "source": [
    "def add(a,b, *args):\n",
    "    return a + b + sum(args)"
   ]
  },
  {
   "cell_type": "code",
   "execution_count": 33,
   "id": "29f9e594",
   "metadata": {},
   "outputs": [
    {
     "data": {
      "text/plain": [
       "15"
      ]
     },
     "execution_count": 33,
     "metadata": {},
     "output_type": "execute_result"
    }
   ],
   "source": [
    "add(1, 2, 3, 4, 5)  # This will return 15"
   ]
  },
  {
   "cell_type": "markdown",
   "id": "e7504f0f",
   "metadata": {},
   "source": [
    "Fizz → divisible by 3\n",
    "\n",
    "Buzz → divisible by 5\n",
    "\n",
    "FizzBuzz → divisible by both 3 and 5\n"
   ]
  },
  {
   "cell_type": "markdown",
   "id": "760b4220",
   "metadata": {},
   "source": [
    "Question: FizzBuzz Problem\n",
    "\n",
    "Problem Statement:\n",
    "Write a Python program that prints the numbers from 1 to N (inclusive), but with the following conditions:\n",
    "\n",
    "- For numbers that are divisible by 3, print \"Fizz\" instead of the number.\n",
    "- For numbers that are divisible by 5, print \"Buzz\" instead of the number.\n",
    "- For numbers that are divisible by both 3 and 5, print \"FizzBuzz\" instead of the number.\n",
    "- For all other numbers, print the number itself.\n",
    "\n",
    "Input:\n",
    "- A single integer N (1 ≤ N ≤ 1000)\n",
    "\n",
    "Output:\n",
    "- Print one output per line according to the above rules.\n",
    "\n",
    "Example Input:\n",
    "15\n",
    "\n",
    "Example Output:\n",
    "1\n",
    "2\n",
    "Fizz\n",
    "4\n",
    "Buzz\n",
    "Fizz\n",
    "7\n",
    "8\n",
    "Fizz\n",
    "Buzz\n",
    "11\n",
    "Fizz\n",
    "13\n",
    "14\n",
    "FizzBuzz\n"
   ]
  },
  {
   "cell_type": "code",
   "execution_count": 38,
   "id": "5f47f235",
   "metadata": {},
   "outputs": [],
   "source": [
    "\n",
    "class Solution:\n",
    "    def fizzBuzz(self, n:int) -> list[str]:\n",
    "        ans = []\n",
    "        for i in range(1, n+1):\n",
    "            if i % 3 == 0 and i % 5 == 0:\n",
    "                ans.append(\"FizzBuzz\")\n",
    "            elif i % 3 == 0:\n",
    "                ans.append(\"Fizz\")\n",
    "            elif i % 5 == 0:\n",
    "                ans.append(\"Buzz\")\n",
    "            else:\n",
    "                ans.append(str(i))\n",
    "        return ans"
   ]
  },
  {
   "cell_type": "code",
   "execution_count": 41,
   "id": "2c59e1d0",
   "metadata": {},
   "outputs": [
    {
     "name": "stdout",
     "output_type": "stream",
     "text": [
      "['1', '2', 'Fizz', '4', 'Buzz']\n"
     ]
    }
   ],
   "source": [
    "fizzbuzz = Solution()\n",
    "print(fizzbuzz.fizzBuzz(5))  # This will return ['1', '2', 'Fizz', '4', 'Buzz']\n"
   ]
  },
  {
   "cell_type": "code",
   "execution_count": 42,
   "id": "c409f532",
   "metadata": {},
   "outputs": [
    {
     "name": "stdout",
     "output_type": "stream",
     "text": [
      "['1', '2', 'Fizz', '4', 'Buzz', 'Fizz', '7', '8', 'Fizz', 'Buzz', '11', 'Fizz', '13', '14', 'FizzBuzz']\n"
     ]
    }
   ],
   "source": [
    "print(fizzbuzz.fizzBuzz(15))"
   ]
  },
  {
   "cell_type": "markdown",
   "id": "6ccfc05f",
   "metadata": {},
   "source": [
    "### 1523. Count Odd Numbers in an Interval Range\n",
    "**Difficulty:** Easy\n",
    "\n",
    "**Problem Statement:**\n",
    "\n",
    "Given two non-negative integers `low` and `high`, return the count of odd numbers between `low` and `high` (inclusive).\n",
    "\n",
    "---\n",
    "\n",
    "**Example 1:**\n",
    "- Input: `low = 3`, `high = 7`\n",
    "- Output: `3`\n",
    "- Explanation: The odd numbers between 3 and 7 are [3, 5, 7].\n",
    "\n",
    "**Example 2:**\n",
    "- Input: `low = 8`, `high = 10`\n",
    "- Output: `1`\n",
    "- Explanation: The odd numbers between 8 and 10 are [9].\n",
    "\n",
    "---\n",
    "\n",
    "**Constraints:**\n",
    "- `0 <= low <= high <= 10^9`\n"
   ]
  },
  {
   "cell_type": "code",
   "execution_count": 43,
   "id": "2c293b57",
   "metadata": {},
   "outputs": [],
   "source": [
    "class Solution:\n",
    "    def OddNumber(self, n: int) -> list[int]:\n",
    "        odd = []\n",
    "        for i in range(1, n+1):\n",
    "            if i % 2 != 0:\n",
    "                odd.append(i)\n",
    "        return odd"
   ]
  },
  {
   "cell_type": "code",
   "execution_count": 44,
   "id": "e6f4eaad",
   "metadata": {},
   "outputs": [],
   "source": [
    "Odd = Solution()"
   ]
  },
  {
   "cell_type": "code",
   "execution_count": 45,
   "id": "45446e9b",
   "metadata": {},
   "outputs": [
    {
     "data": {
      "text/plain": [
       "[1, 3, 5, 7, 9]"
      ]
     },
     "execution_count": 45,
     "metadata": {},
     "output_type": "execute_result"
    }
   ],
   "source": [
    "Odd.OddNumber(10)  # This will return [1, 3, 5, 7, 9]"
   ]
  },
  {
   "cell_type": "code",
   "execution_count": 46,
   "id": "19de7e4c",
   "metadata": {},
   "outputs": [
    {
     "data": {
      "text/plain": [
       "1"
      ]
     },
     "execution_count": 46,
     "metadata": {},
     "output_type": "execute_result"
    }
   ],
   "source": [
    "2//2"
   ]
  },
  {
   "cell_type": "code",
   "execution_count": 47,
   "id": "8df2ad13",
   "metadata": {},
   "outputs": [],
   "source": [
    "class Solution:\n",
    "    def odd_number(self, low:int, high:int) -> list[int]:\n",
    "        return (high+1)//2 - (low//2)"
   ]
  },
  {
   "cell_type": "code",
   "execution_count": 48,
   "id": "8e8524d2",
   "metadata": {},
   "outputs": [
    {
     "name": "stdout",
     "output_type": "stream",
     "text": [
      "5\n"
     ]
    }
   ],
   "source": [
    "odd = Solution()\n",
    "print(odd.odd_number(1, 10))  # This will return 5"
   ]
  },
  {
   "cell_type": "code",
   "execution_count": 49,
   "id": "72f84d1c",
   "metadata": {},
   "outputs": [
    {
     "name": "stdout",
     "output_type": "stream",
     "text": [
      "5\n"
     ]
    }
   ],
   "source": [
    "print(odd.odd_number(10, 20))  "
   ]
  },
  {
   "cell_type": "markdown",
   "id": "d30ea76f",
   "metadata": {},
   "source": [
    "### 1365. How Many Numbers Are Smaller Than the Current Number\n",
    "**Difficulty:** Easy\n",
    "\n",
    "**Problem Statement:**\n",
    "\n",
    "Given the array `nums`, for each `nums[i]` find out how many numbers in the array are smaller than it.  \n",
    "That is, for each `nums[i]` you have to count the number of valid `j`'s such that `j != i` and `nums[j] < nums[i]`.\n",
    "\n",
    "Return the answer in an array.\n",
    "\n",
    "---\n",
    "\n",
    "**Example 1:**\n",
    "\n",
    "- Input: `nums = [8,1,2,2,3]`  \n",
    "- Output: `[4,0,1,1,3]`  \n",
    "- Explanation:  \n",
    "  - For `nums[0] = 8`, four numbers are smaller than it (1, 2, 2, 3)  \n",
    "  - For `nums[1] = 1`, no number is smaller  \n",
    "  - For `nums[2] = 2`, one number is smaller (1)  \n",
    "  - For `nums[3] = 2`, one number is smaller (1)  \n",
    "  - For `nums[4] = 3`, three numbers are smaller (1, 2, 2)\n",
    "\n",
    "---\n",
    "\n",
    "**Example 2:**\n",
    "\n",
    "- Input: `nums = [6,5,4,8]`  \n",
    "- Output: `[2,1,0,3]`\n",
    "\n",
    "**Example 3:**\n",
    "\n",
    "- Input: `nums = [7,7,7,7]`  \n",
    "- Output: `[0,0,0,0]`\n",
    "\n",
    "---\n",
    "\n",
    "**Constraints:**\n",
    "- `2 <= nums.length <= 500`\n",
    "- `0 <= nums[i] <= 100`\n"
   ]
  },
  {
   "cell_type": "code",
   "execution_count": 51,
   "id": "655ab083",
   "metadata": {},
   "outputs": [],
   "source": [
    "class solution:\n",
    "    def smallernumber(self,nums):\n",
    "        ans = []\n",
    "        for i in nums:\n",
    "            count = 0\n",
    "            for j in nums:\n",
    "                if j < i:\n",
    "                    count += 1\n",
    "            ans.append(count)\n",
    "        return ans"
   ]
  },
  {
   "cell_type": "code",
   "execution_count": 52,
   "id": "0b70dbc1",
   "metadata": {},
   "outputs": [],
   "source": [
    "num = solution()"
   ]
  },
  {
   "cell_type": "code",
   "execution_count": 53,
   "id": "3edfcfc4",
   "metadata": {},
   "outputs": [
    {
     "name": "stdout",
     "output_type": "stream",
     "text": [
      "[4, 0, 1, 1, 3]\n"
     ]
    }
   ],
   "source": [
    "print(num.smallernumber([8, 1, 2, 2, 3]))  # This will return [4, 0, 1, 1, 3]"
   ]
  },
  {
   "cell_type": "markdown",
   "id": "5feca7fb",
   "metadata": {},
   "source": [
    "### 2520. Count the Digits That Divide a Number\n",
    "**Difficulty:** Easy\n",
    "\n",
    "**Problem Statement:**\n",
    "\n",
    "Given an integer `num`, return the number of digits in `num` that divide `num`.\n",
    "\n",
    "An integer `val` divides `num` if `num % val == 0`.\n",
    "\n",
    "---\n",
    "\n",
    "**Example 1:**\n",
    "\n",
    "- Input: `num = 7`  \n",
    "- Output: `1`  \n",
    "- Explanation: 7 divides itself, hence the answer is 1.\n",
    "\n",
    "**Example 2:**\n",
    "\n",
    "- Input: `num = 121`  \n",
    "- Output: `2`  \n",
    "- Explanation: 121 is divisible by 1, but not by 2. Since 1 occurs twice as a digit, we return 2.\n",
    "\n",
    "**Example 3:**\n",
    "\n",
    "- Input: `num = 1248`  \n",
    "- Output: `4`  \n",
    "- Explanation: 1248 is divisible by all of its digits, hence the answer is 4.\n",
    "\n",
    "---\n",
    "\n",
    "**Constraints:**\n",
    "- `1 <= num <= 10^9`\n",
    "- `num` does **not** contain `0` as one of its digits\n"
   ]
  },
  {
   "cell_type": "code",
   "execution_count": 60,
   "id": "6886106f",
   "metadata": {},
   "outputs": [],
   "source": [
    "class Solution(object):\n",
    "    def countDigits(self, num):\n",
    "        count = 0\n",
    "        for i in str(num):\n",
    "            d = int(i)\n",
    "            if num % d == 0:\n",
    "                count += 1\n",
    "        return count\n"
   ]
  },
  {
   "cell_type": "code",
   "execution_count": 61,
   "id": "ac2fb67c",
   "metadata": {},
   "outputs": [
    {
     "name": "stdout",
     "output_type": "stream",
     "text": [
      "4\n"
     ]
    }
   ],
   "source": [
    "ans = Solution()\n",
    "print(ans.countDigits(1248))  # Output: 4 (1, 2, 4, and 8 are divisors of 1248)"
   ]
  },
  {
   "cell_type": "code",
   "execution_count": 62,
   "id": "a7092733",
   "metadata": {},
   "outputs": [
    {
     "name": "stdout",
     "output_type": "stream",
     "text": [
      "0\n"
     ]
    }
   ],
   "source": [
    "print(ans.countDigits(23))"
   ]
  },
  {
   "cell_type": "code",
   "execution_count": 63,
   "id": "624563ef",
   "metadata": {},
   "outputs": [
    {
     "name": "stdout",
     "output_type": "stream",
     "text": [
      "2\n"
     ]
    }
   ],
   "source": [
    "print(ans.countDigits(12))"
   ]
  },
  {
   "cell_type": "code",
   "execution_count": 64,
   "id": "edd05e85",
   "metadata": {},
   "outputs": [
    {
     "name": "stdout",
     "output_type": "stream",
     "text": [
      "1\n"
     ]
    }
   ],
   "source": [
    "print(ans.countDigits(2))"
   ]
  },
  {
   "cell_type": "code",
   "execution_count": 67,
   "id": "19112845",
   "metadata": {},
   "outputs": [],
   "source": [
    "class Solution(object):\n",
    "    def countDigits(self, num: int) -> int:\n",
    "        temp = num\n",
    "        ans = 0\n",
    "        while temp>0:\n",
    "            r = temp % 10\n",
    "            if num % r == 0:\n",
    "                ans +=1\n",
    "            temp //= 10\n",
    "        return ans"
   ]
  },
  {
   "cell_type": "code",
   "execution_count": 68,
   "id": "14836481",
   "metadata": {},
   "outputs": [
    {
     "name": "stdout",
     "output_type": "stream",
     "text": [
      "4\n"
     ]
    }
   ],
   "source": [
    "ans1 = Solution()\n",
    "print(ans1.countDigits(1248))  # Output: 4 (1, 2, 4, and 8 are divisors of 1248)"
   ]
  },
  {
   "cell_type": "markdown",
   "id": "fc213f51",
   "metadata": {},
   "source": [
    "### 9. Palindrome Number\n",
    "**Difficulty:** Easy\n",
    "\n",
    "**Problem Statement:**\n",
    "\n",
    "Given an integer `x`, return `true` if `x` is a palindrome, and `false` otherwise.\n",
    "\n",
    "---\n",
    "\n",
    "**Example 1:**\n",
    "\n",
    "- Input: `x = 121`  \n",
    "- Output: `true`  \n",
    "- Explanation: 121 reads as 121 from left to right and from right to left.\n",
    "\n",
    "**Example 2:**\n",
    "\n",
    "- Input: `x = -121`  \n",
    "- Output: `false`  \n",
    "- Explanation: From left to right, it reads -121. From right to left, it becomes 121-. Therefore it is not a palindrome.\n",
    "\n",
    "**Example 3:**\n",
    "\n",
    "- Input: `x = 10`  \n",
    "- Output: `false`  \n",
    "- Explanation: Reads 01 from right to left. Therefore it is not a palindrome.\n",
    "\n",
    "---\n",
    "\n",
    "**Constraints:**\n",
    "- `-2^31 <= x <= 2^31 - 1`\n"
   ]
  },
  {
   "cell_type": "code",
   "execution_count": 82,
   "id": "d787759b",
   "metadata": {},
   "outputs": [],
   "source": [
    "class Solution(object):\n",
    "    def isPalindrome(self, x):\n",
    "        temp = x\n",
    "        rev = 0\n",
    "        while temp>0:\n",
    "            r = temp% 10\n",
    "            temp //= 10\n",
    "            rev = rev * 10 + r\n",
    "        return rev == x"
   ]
  },
  {
   "cell_type": "code",
   "execution_count": 83,
   "id": "c2423298",
   "metadata": {},
   "outputs": [
    {
     "name": "stdout",
     "output_type": "stream",
     "text": [
      "True\n"
     ]
    }
   ],
   "source": [
    "ans2 = Solution()\n",
    "print(ans2.isPalindrome(121))  # Output: True (121 is a palindrome)"
   ]
  },
  {
   "cell_type": "markdown",
   "id": "acfc373a",
   "metadata": {},
   "source": [
    "### 1281. Subtract the Product and Sum of Digits of an Integer\n",
    "**Difficulty:** Easy\n",
    "\n",
    "**Problem Statement:**\n",
    "\n",
    "Given an integer number `n`, return the difference between the **product** of its digits and the **sum** of its digits.\n",
    "\n",
    "---\n",
    "\n",
    "**Example 1:**\n",
    "\n",
    "- Input: `n = 234`  \n",
    "- Output: `15`  \n",
    "- Explanation:  \n",
    "  - Product of digits = 2 × 3 × 4 = 24  \n",
    "  - Sum of digits = 2 + 3 + 4 = 9  \n",
    "  - Result = 24 - 9 = 15\n",
    "\n",
    "---\n",
    "\n",
    "**Example 2:**\n",
    "\n",
    "- Input: `n = 4421`  \n",
    "- Output: `21`  \n",
    "- Explanation:  \n",
    "  - Product of digits = 4 × 4 × 2 × 1 = 32  \n",
    "  - Sum of digits = 4 + 4 + 2 + 1 = 11  \n",
    "  - Result = 32 - 11 = 21\n",
    "\n",
    "---\n",
    "\n",
    "**Constraints:**\n",
    "- `1 <= n <= 10^5`\n"
   ]
  },
  {
   "cell_type": "code",
   "execution_count": 84,
   "id": "b9d589dd",
   "metadata": {},
   "outputs": [],
   "source": [
    "class Solution(object):\n",
    "    def subtractProductAndSum(self, n):\n",
    "        temp = n\n",
    "        prod = 1\n",
    "        sum = 0\n",
    "        while temp > 0:\n",
    "            r = temp % 10\n",
    "            prod *= r\n",
    "            sum += r\n",
    "            temp //= 10\n",
    "        return prod - sum"
   ]
  },
  {
   "cell_type": "markdown",
   "id": "0371aba7",
   "metadata": {},
   "source": [
    "### 1431. Kids With the Greatest Number of Candies\n",
    "**Difficulty:** Easy\n",
    "\n",
    "**Problem Statement:**\n",
    "\n",
    "There are `n` kids with candies. You are given an integer array `candies`, where each `candies[i]` represents the number of candies the *i-th* kid has, and an integer `extraCandies`, denoting the number of extra candies that you have.\n",
    "\n",
    "Return a boolean array `result` of length `n`, where `result[i]` is `true` if, after giving the i-th kid **all** the `extraCandies`, they will have the **greatest number of candies** among all the kids, or `false` otherwise.\n",
    "\n",
    "Note that multiple kids can have the greatest number of candies.\n",
    "\n",
    "---\n",
    "\n",
    "**Example 1:**\n",
    "\n",
    "- Input: `candies = [2,3,5,1,3]`, `extraCandies = 3`  \n",
    "- Output: `[true, true, true, false, true]`  \n",
    "- Explanation:\n",
    "  - Kid 1: 2 + 3 = 5 → max\n",
    "  - Kid 2: 3 + 3 = 6 → max\n",
    "  - Kid 3: 5 + 3 = 8 → max\n",
    "  - Kid 4: 1 + 3 = 4 → not max\n",
    "  - Kid 5: 3 + 3 = 6 → max\n",
    "\n",
    "---\n",
    "\n",
    "**Example 2:**\n",
    "\n",
    "- Input: `candies = [4,2,1,1,2]`, `extraCandies = 1`  \n",
    "- Output: `[true, false, false, false, false]`\n",
    "\n",
    "**Example 3:**\n",
    "\n",
    "- Input: `candies = [12,1,12]`, `extraCandies = 10`  \n",
    "- Output: `[true, false, true]`\n",
    "\n",
    "---\n",
    "\n",
    "**Constraints:**\n",
    "- `n == candies.length`\n",
    "- `2 <= n <= 100`\n",
    "- `1 <= candies[i] <= 100`\n",
    "- `1 <= extraCandies <= 50`\n"
   ]
  },
  {
   "cell_type": "code",
   "execution_count": 92,
   "id": "78a7adc6",
   "metadata": {},
   "outputs": [],
   "source": [
    "class Solution():\n",
    "    def kidsWithCandies(self, candies, extraCandies):\n",
    "        maxcandie = max(candies)\n",
    "        ans = []\n",
    "        for i in candies:\n",
    "            if i + extraCandies >= maxcandie:\n",
    "                ans.append(True)\n",
    "            else:   \n",
    "                ans.append(False)  \n",
    "        return ans                                                                                                                                                                                                                                                          "
   ]
  },
  {
   "cell_type": "code",
   "execution_count": 93,
   "id": "a1dfd2bf",
   "metadata": {},
   "outputs": [
    {
     "name": "stdout",
     "output_type": "stream",
     "text": [
      "[True, True, True, False, True]\n"
     ]
    }
   ],
   "source": [
    "ans5 = Solution()\n",
    "print(ans5.kidsWithCandies([2,3,5,1,3], 3))  # Example usage, should print True/False for each child based on candies and extraCandies"
   ]
  },
  {
   "cell_type": "code",
   "execution_count": 94,
   "id": "6ee7bc40",
   "metadata": {},
   "outputs": [],
   "source": [
    "class Solution():\n",
    "    def kidsWithCandies(self, candies, extraCandies):\n",
    "        ans = [i + extraCandies >= max(candies) for i in candies]\n",
    "        return ans"
   ]
  },
  {
   "cell_type": "code",
   "execution_count": 95,
   "id": "9b658349",
   "metadata": {},
   "outputs": [
    {
     "name": "stdout",
     "output_type": "stream",
     "text": [
      "[True, True, True, False, True]\n"
     ]
    }
   ],
   "source": [
    "ans5 = Solution()\n",
    "print(ans5.kidsWithCandies([2,3,5,1,3], 3))  # Example usage, should print True/False for each child based on candies and extraCandies"
   ]
  },
  {
   "cell_type": "code",
   "execution_count": 96,
   "id": "2c17e3eb",
   "metadata": {},
   "outputs": [
    {
     "name": "stdout",
     "output_type": "stream",
     "text": [
      "The End\n"
     ]
    }
   ],
   "source": [
    "print(\"The End\")"
   ]
  }
 ],
 "metadata": {
  "kernelspec": {
   "display_name": "Python 3",
   "language": "python",
   "name": "python3"
  },
  "language_info": {
   "codemirror_mode": {
    "name": "ipython",
    "version": 3
   },
   "file_extension": ".py",
   "mimetype": "text/x-python",
   "name": "python",
   "nbconvert_exporter": "python",
   "pygments_lexer": "ipython3",
   "version": "3.10.0"
  }
 },
 "nbformat": 4,
 "nbformat_minor": 5
}
